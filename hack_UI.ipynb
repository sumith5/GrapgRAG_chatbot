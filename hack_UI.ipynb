{
  "cells": [
    {
      "cell_type": "code",
      "execution_count": 1,
      "metadata": {
        "colab": {
          "base_uri": "https://localhost:8080/"
        },
        "collapsed": true,
        "id": "KHsraJvtDC2W",
        "outputId": "1c195e6b-66ea-4413-9e76-9a2a1de31a8a"
      },
      "outputs": [
        {
          "name": "stdout",
          "output_type": "stream",
          "text": [
            "\u001b[2K     \u001b[90m━━━━━━━━━━━━━━━━━━━━━━━━━━━━━━━━━━━━━━━━\u001b[0m \u001b[32m990.0/990.0 kB\u001b[0m \u001b[31m9.4 MB/s\u001b[0m eta \u001b[36m0:00:00\u001b[0m\n",
            "\u001b[2K     \u001b[90m━━━━━━━━━━━━━━━━━━━━━━━━━━━━━━━━━━━━━━━━\u001b[0m \u001b[32m2.3/2.3 MB\u001b[0m \u001b[31m22.6 MB/s\u001b[0m eta \u001b[36m0:00:00\u001b[0m\n",
            "\u001b[2K     \u001b[90m━━━━━━━━━━━━━━━━━━━━━━━━━━━━━━━━━━━━━━━━\u001b[0m \u001b[32m46.7/46.7 kB\u001b[0m \u001b[31m4.4 MB/s\u001b[0m eta \u001b[36m0:00:00\u001b[0m\n",
            "\u001b[2K     \u001b[90m━━━━━━━━━━━━━━━━━━━━━━━━━━━━━━━━━━━━━━━━\u001b[0m \u001b[32m202.7/202.7 kB\u001b[0m \u001b[31m11.0 MB/s\u001b[0m eta \u001b[36m0:00:00\u001b[0m\n",
            "\u001b[2K     \u001b[90m━━━━━━━━━━━━━━━━━━━━━━━━━━━━━━━━━━━━━━━━\u001b[0m \u001b[32m293.5/293.5 kB\u001b[0m \u001b[31m17.4 MB/s\u001b[0m eta \u001b[36m0:00:00\u001b[0m\n",
            "\u001b[?25h  Preparing metadata (setup.py) ... \u001b[?25l\u001b[?25hdone\n",
            "\u001b[2K     \u001b[90m━━━━━━━━━━━━━━━━━━━━━━━━━━━━━━━━━━━━━━━━\u001b[0m \u001b[32m1.1/1.1 MB\u001b[0m \u001b[31m35.1 MB/s\u001b[0m eta \u001b[36m0:00:00\u001b[0m\n",
            "\u001b[2K     \u001b[90m━━━━━━━━━━━━━━━━━━━━━━━━━━━━━━━━━━━━━━━━\u001b[0m \u001b[32m15.5/15.5 MB\u001b[0m \u001b[31m37.0 MB/s\u001b[0m eta \u001b[36m0:00:00\u001b[0m\n",
            "\u001b[2K     \u001b[90m━━━━━━━━━━━━━━━━━━━━━━━━━━━━━━━━━━━━━━━━\u001b[0m \u001b[32m373.5/373.5 kB\u001b[0m \u001b[31m31.5 MB/s\u001b[0m eta \u001b[36m0:00:00\u001b[0m\n",
            "\u001b[2K     \u001b[90m━━━━━━━━━━━━━━━━━━━━━━━━━━━━━━━━━━━━━━━━\u001b[0m \u001b[32m139.8/139.8 kB\u001b[0m \u001b[31m6.7 MB/s\u001b[0m eta \u001b[36m0:00:00\u001b[0m\n",
            "\u001b[2K     \u001b[90m━━━━━━━━━━━━━━━━━━━━━━━━━━━━━━━━━━━━━━━━\u001b[0m \u001b[32m328.8/328.8 kB\u001b[0m \u001b[31m26.3 MB/s\u001b[0m eta \u001b[36m0:00:00\u001b[0m\n",
            "\u001b[2K     \u001b[90m━━━━━━━━━━━━━━━━━━━━━━━━━━━━━━━━━━━━━━━━\u001b[0m \u001b[32m139.4/139.4 kB\u001b[0m \u001b[31m15.1 MB/s\u001b[0m eta \u001b[36m0:00:00\u001b[0m\n",
            "\u001b[2K     \u001b[90m━━━━━━━━━━━━━━━━━━━━━━━━━━━━━━━━━━━━━━━━\u001b[0m \u001b[32m49.2/49.2 kB\u001b[0m \u001b[31m4.3 MB/s\u001b[0m eta \u001b[36m0:00:00\u001b[0m\n",
            "\u001b[2K     \u001b[90m━━━━━━━━━━━━━━━━━━━━━━━━━━━━━━━━━━━━━━━━\u001b[0m \u001b[32m2.3/2.3 MB\u001b[0m \u001b[31m51.3 MB/s\u001b[0m eta \u001b[36m0:00:00\u001b[0m\n",
            "\u001b[2K     \u001b[90m━━━━━━━━━━━━━━━━━━━━━━━━━━━━━━━━━━━━━━━━\u001b[0m \u001b[32m141.1/141.1 kB\u001b[0m \u001b[31m11.8 MB/s\u001b[0m eta \u001b[36m0:00:00\u001b[0m\n",
            "\u001b[2K     \u001b[90m━━━━━━━━━━━━━━━━━━━━━━━━━━━━━━━━━━━━━━━━\u001b[0m \u001b[32m75.6/75.6 kB\u001b[0m \u001b[31m8.2 MB/s\u001b[0m eta \u001b[36m0:00:00\u001b[0m\n",
            "\u001b[2K     \u001b[90m━━━━━━━━━━━━━━━━━━━━━━━━━━━━━━━━━━━━━━━━\u001b[0m \u001b[32m77.9/77.9 kB\u001b[0m \u001b[31m6.7 MB/s\u001b[0m eta \u001b[36m0:00:00\u001b[0m\n",
            "\u001b[2K     \u001b[90m━━━━━━━━━━━━━━━━━━━━━━━━━━━━━━━━━━━━━━━━\u001b[0m \u001b[32m58.3/58.3 kB\u001b[0m \u001b[31m5.7 MB/s\u001b[0m eta \u001b[36m0:00:00\u001b[0m\n",
            "\u001b[2K     \u001b[90m━━━━━━━━━━━━━━━━━━━━━━━━━━━━━━━━━━━━━━━━\u001b[0m \u001b[32m1.6/1.6 MB\u001b[0m \u001b[31m65.4 MB/s\u001b[0m eta \u001b[36m0:00:00\u001b[0m\n",
            "\u001b[?25h  Building wheel for wikipedia (setup.py) ... \u001b[?25l\u001b[?25hdone\n"
          ]
        }
      ],
      "source": [
        "%pip install --upgrade --quiet  langchain langchain-community langchain-openai langchain-experimental neo4j wikipedia tiktoken yfiles_jupyter_graphs"
      ]
    },
    {
      "cell_type": "code",
      "execution_count": 2,
      "metadata": {
        "colab": {
          "base_uri": "https://localhost:8080/"
        },
        "id": "7PnksYpJDmji",
        "outputId": "be4dd7f4-2a2c-4fc6-944a-f4e7a986127e"
      },
      "outputs": [
        {
          "name": "stdout",
          "output_type": "stream",
          "text": [
            "\u001b[2K     \u001b[90m━━━━━━━━━━━━━━━━━━━━━━━━━━━━━━━━━━━━━━━━\u001b[0m \u001b[32m8.6/8.6 MB\u001b[0m \u001b[31m27.5 MB/s\u001b[0m eta \u001b[36m0:00:00\u001b[0m\n",
            "\u001b[2K     \u001b[90m━━━━━━━━━━━━━━━━━━━━━━━━━━━━━━━━━━━━━━━━\u001b[0m \u001b[32m207.3/207.3 kB\u001b[0m \u001b[31m15.8 MB/s\u001b[0m eta \u001b[36m0:00:00\u001b[0m\n",
            "\u001b[2K     \u001b[90m━━━━━━━━━━━━━━━━━━━━━━━━━━━━━━━━━━━━━━━━\u001b[0m \u001b[32m6.9/6.9 MB\u001b[0m \u001b[31m71.9 MB/s\u001b[0m eta \u001b[36m0:00:00\u001b[0m\n",
            "\u001b[2K     \u001b[90m━━━━━━━━━━━━━━━━━━━━━━━━━━━━━━━━━━━━━━━━\u001b[0m \u001b[32m83.0/83.0 kB\u001b[0m \u001b[31m8.0 MB/s\u001b[0m eta \u001b[36m0:00:00\u001b[0m\n",
            "\u001b[2K     \u001b[90m━━━━━━━━━━━━━━━━━━━━━━━━━━━━━━━━━━━━━━━━\u001b[0m \u001b[32m62.7/62.7 kB\u001b[0m \u001b[31m5.6 MB/s\u001b[0m eta \u001b[36m0:00:00\u001b[0m\n",
            "\u001b[?25h"
          ]
        }
      ],
      "source": [
        "!pip install -q streamlit"
      ]
    },
    {
      "cell_type": "code",
      "execution_count": 3,
      "metadata": {
        "colab": {
          "base_uri": "https://localhost:8080/"
        },
        "id": "uEcpaTBgEP9I",
        "outputId": "f92c2a8f-bc90-4fd6-ce8c-5079d11d333f"
      },
      "outputs": [
        {
          "name": "stdout",
          "output_type": "stream",
          "text": [
            "34.147.108.250\n"
          ]
        }
      ],
      "source": [
        "!wget -q -O - ipv4.icanhazip.com"
      ]
    },
    {
      "cell_type": "code",
      "execution_count": 5,
      "metadata": {
        "colab": {
          "base_uri": "https://localhost:8080/"
        },
        "id": "peMYOER1HtRz",
        "outputId": "6488d9b6-360a-43d7-9e7f-fb3c4fb2a9ae"
      },
      "outputs": [
        {
          "name": "stdout",
          "output_type": "stream",
          "text": [
            "\n",
            "Collecting usage statistics. To deactivate, set browser.gatherUsageStats to false.\n",
            "\u001b[0m\n",
            "\u001b[0m\n",
            "\u001b[34m\u001b[1m  You can now view your Streamlit app in your browser.\u001b[0m\n",
            "\u001b[0m\n",
            "\u001b[34m  Local URL: \u001b[0m\u001b[1mhttp://localhost:8501\u001b[0m\n",
            "\u001b[34m  Network URL: \u001b[0m\u001b[1mhttp://172.28.0.12:8501\u001b[0m\n",
            "\u001b[34m  External URL: \u001b[0m\u001b[1mhttp://34.147.108.250:8501\u001b[0m\n",
            "\u001b[0m\n",
            "\u001b[1G\u001b[0JNeed to install the following packages:\n",
            "  localtunnel@2.0.2\n",
            "Ok to proceed? (y) \u001b[20Gy\n",
            "\u001b[K\u001b[?25hyour url is: https://deep-camels-roll.loca.lt\n",
            "2024-07-22 10:08:09.656 Uncaught app exception\n",
            "Traceback (most recent call last):\n",
            "  File \"/usr/local/lib/python3.10/dist-packages/streamlit/elements/image.py\", line 385, in image_to_url\n",
            "    with open(image, \"rb\") as f:\n",
            "FileNotFoundError: [Errno 2] No such file or directory: '/content/Prolificslogo.jpg'\n",
            "\n",
            "During handling of the above exception, another exception occurred:\n",
            "\n",
            "Traceback (most recent call last):\n",
            "  File \"/usr/local/lib/python3.10/dist-packages/streamlit/runtime/memory_media_file_storage.py\", line 164, in _read_file\n",
            "    with open(filename, \"rb\") as f:\n",
            "FileNotFoundError: [Errno 2] No such file or directory: '/content/Prolificslogo.jpg'\n",
            "\n",
            "The above exception was the direct cause of the following exception:\n",
            "\n",
            "Traceback (most recent call last):\n",
            "  File \"/usr/local/lib/python3.10/dist-packages/streamlit/runtime/scriptrunner/script_runner.py\", line 589, in _run_script\n",
            "    exec(code, module.__dict__)\n",
            "  File \"/content/app.py\", line 444, in <module>\n",
            "    init_ui()\n",
            "  File \"/content/app.py\", line 410, in init_ui\n",
            "    st.sidebar.image(['/content/Prolificslogo.jpg'], width=220,)\n",
            "  File \"/usr/local/lib/python3.10/dist-packages/streamlit/runtime/metrics_util.py\", line 408, in wrapped_func\n",
            "    result = non_optional_func(*args, **kwargs)\n",
            "  File \"/usr/local/lib/python3.10/dist-packages/streamlit/elements/image.py\", line 161, in image\n",
            "    marshall_images(\n",
            "  File \"/usr/local/lib/python3.10/dist-packages/streamlit/elements/image.py\", line 550, in marshall_images\n",
            "    proto_img.url = image_to_url(\n",
            "  File \"/usr/local/lib/python3.10/dist-packages/streamlit/elements/image.py\", line 397, in image_to_url\n",
            "    url = runtime.get_instance().media_file_mgr.add(image, mimetype, image_id)\n",
            "  File \"/usr/local/lib/python3.10/dist-packages/streamlit/runtime/media_file_manager.py\", line 224, in add\n",
            "    file_id = self._storage.load_and_get_id(\n",
            "  File \"/usr/local/lib/python3.10/dist-packages/streamlit/runtime/memory_media_file_storage.py\", line 115, in load_and_get_id\n",
            "    file_data = self._read_file(path_or_data)\n",
            "  File \"/usr/local/lib/python3.10/dist-packages/streamlit/runtime/memory_media_file_storage.py\", line 167, in _read_file\n",
            "    raise MediaFileStorageError(f\"Error opening '{filename}'\") from ex\n",
            "streamlit.runtime.media_file_storage.MediaFileStorageError: Error opening '/content/Prolificslogo.jpg'\n",
            "2024-07-22 11:15:25.621 Uncaught app exception\n",
            "Traceback (most recent call last):\n",
            "  File \"/usr/local/lib/python3.10/dist-packages/neo4j/_async_compat/network/_bolt_socket.py\", line 528, in _connect\n",
            "    s.connect(resolved_address)\n",
            "TimeoutError: timed out\n",
            "\n",
            "During handling of the above exception, another exception occurred:\n",
            "\n",
            "Traceback (most recent call last):\n",
            "  File \"/usr/local/lib/python3.10/dist-packages/neo4j/_async_compat/network/_bolt_socket.py\", line 690, in connect\n",
            "    s = BoltSocket._connect(resolved_address, tcp_timeout,\n",
            "  File \"/usr/local/lib/python3.10/dist-packages/neo4j/_async_compat/network/_bolt_socket.py\", line 537, in _connect\n",
            "    raise ServiceUnavailable(\n",
            "neo4j.exceptions.ServiceUnavailable: Timed out trying to establish connection to ResolvedIPv4Address(('44.202.84.17', 7687))\n",
            "\n",
            "The above exception was the direct cause of the following exception:\n",
            "\n",
            "Traceback (most recent call last):\n",
            "  File \"/usr/local/lib/python3.10/dist-packages/langchain_community/graphs/neo4j_graph.py\", line 370, in __init__\n",
            "    self._driver.verify_connectivity()\n",
            "  File \"/usr/local/lib/python3.10/dist-packages/neo4j/_sync/driver.py\", line 1067, in verify_connectivity\n",
            "    self._get_server_info(session_config)\n",
            "  File \"/usr/local/lib/python3.10/dist-packages/neo4j/_sync/driver.py\", line 1281, in _get_server_info\n",
            "    return session._get_server_info()\n",
            "  File \"/usr/local/lib/python3.10/dist-packages/neo4j/_sync/work/session.py\", line 172, in _get_server_info\n",
            "    self._connect(READ_ACCESS, liveness_check_timeout=0)\n",
            "  File \"/usr/local/lib/python3.10/dist-packages/neo4j/_sync/work/session.py\", line 130, in _connect\n",
            "    super()._connect(\n",
            "  File \"/usr/local/lib/python3.10/dist-packages/neo4j/_sync/work/workspace.py\", line 182, in _connect\n",
            "    self._connection = self._pool.acquire(**acquire_kwargs_)\n",
            "  File \"/usr/local/lib/python3.10/dist-packages/neo4j/_sync/io/_pool.py\", line 526, in acquire\n",
            "    return self._acquire(\n",
            "  File \"/usr/local/lib/python3.10/dist-packages/neo4j/_sync/io/_pool.py\", line 313, in _acquire\n",
            "    return connection_creator()\n",
            "  File \"/usr/local/lib/python3.10/dist-packages/neo4j/_sync/io/_pool.py\", line 163, in connection_creator\n",
            "    connection = self.opener(\n",
            "  File \"/usr/local/lib/python3.10/dist-packages/neo4j/_sync/io/_pool.py\", line 500, in opener\n",
            "    return Bolt.open(\n",
            "  File \"/usr/local/lib/python3.10/dist-packages/neo4j/_sync/io/_bolt.py\", line 403, in open\n",
            "    BoltSocket.connect(\n",
            "  File \"/usr/local/lib/python3.10/dist-packages/neo4j/_async_compat/network/_bolt_socket.py\", line 718, in connect\n",
            "    raise ServiceUnavailable(\n",
            "neo4j.exceptions.ServiceUnavailable: Couldn't connect to 44.202.84.17:7687 (resolved to ()):\n",
            "Timed out trying to establish connection to ResolvedIPv4Address(('44.202.84.17', 7687))\n",
            "\n",
            "During handling of the above exception, another exception occurred:\n",
            "\n",
            "Traceback (most recent call last):\n",
            "  File \"/usr/local/lib/python3.10/dist-packages/streamlit/runtime/scriptrunner/script_runner.py\", line 589, in _run_script\n",
            "    exec(code, module.__dict__)\n",
            "  File \"/content/app.py\", line 444, in <module>\n",
            "    init_ui()\n",
            "  File \"/content/app.py\", line 420, in init_ui\n",
            "    response = get_response(user_query)\n",
            "  File \"/content/app.py\", line 371, in get_response\n",
            "    rag = GraphRAG()\n",
            "  File \"/content/app.py\", line 180, in __init__\n",
            "    self.graph = Neo4jGraph()\n",
            "  File \"/usr/local/lib/python3.10/dist-packages/langchain_community/graphs/neo4j_graph.py\", line 372, in __init__\n",
            "    raise ValueError(\n",
            "ValueError: Could not connect to Neo4j database. Please ensure that the url is correct\n",
            "\u001b[34m  Stopping...\u001b[0m\n",
            "^C\n"
          ]
        }
      ],
      "source": [
        "! streamlit run /content/app.py & npx localtunnel --port 8501"
      ]
    },
    {
      "cell_type": "markdown",
      "metadata": {
        "id": "kOzchjkw3wYj"
      },
      "source": []
    }
  ],
  "metadata": {
    "colab": {
      "provenance": []
    },
    "kernelspec": {
      "display_name": "Python 3",
      "name": "python3"
    },
    "language_info": {
      "name": "python"
    }
  },
  "nbformat": 4,
  "nbformat_minor": 0
}
